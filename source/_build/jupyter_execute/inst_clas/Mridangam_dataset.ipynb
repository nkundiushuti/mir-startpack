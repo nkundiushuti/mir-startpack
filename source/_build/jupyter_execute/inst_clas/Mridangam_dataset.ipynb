{
 "cells": [
  {
   "cell_type": "markdown",
   "metadata": {
    "id": "cvIcZ7dYZ3A4"
   },
   "source": [
    "The Mridangam Stroke Dataset\n",
    "============================\n",
    "\n",
    "The MTG proposes a few [datasets](https://www.upf.edu/web/mtg/software-datasets) that may be used for the instrument classification task: \n",
    "* [IRMAS](https://www.upf.edu/web/mtg/irmas) - containing annotated samples of multiple instruments \n",
    "* [Good Sounds](https://www.upf.edu/web/mtg/good-sounds) - containing monophonic sounds (notes and scales) for various instruments\n",
    "* [Mridangam Stroke](https://compmusic.upf.edu/mridangam-stroke-dataset) containing isolated drum strokes and the annotated tonic\n",
    "\n",
    "All these datasets may be downloaded from zenodo. In addition, these datasets may be loaded and validated with easy using the [mirdata](https://github.com/mir-dataset-loaders/mirdata) library. \n",
    "\n",
    "For educational purposes, we will work with the Mridangam Stroke dataset.\n"
   ]
  },
  {
   "cell_type": "markdown",
   "metadata": {
    "id": "y9o0R5vEaAc1"
   },
   "source": [
    "## Instalation of packages\n",
    "\n",
    "To download, validate, and load the data we use the mirdata library.\n",
    "We use MTG's [essentia](https://essentia.upf.edu) for audio loading and feature computation. Matplotlib's pyplot is used for plotting and pandas for data stats. \n",
    "We install these libraries through PyPI. "
   ]
  },
  {
   "cell_type": "code",
   "execution_count": 1,
   "metadata": {
    "executionInfo": {
     "elapsed": 48925,
     "status": "ok",
     "timestamp": 1623158172325,
     "user": {
      "displayName": "MARIUS MIRON",
      "photoUrl": "",
      "userId": "15610443579159325826"
     },
     "user_tz": -120
    },
    "id": "sliVDC3GYPcT"
   },
   "outputs": [],
   "source": [
    "%%capture\n",
    "#If not installed, install Essentia. \n",
    "# This cell is for running the notebook in Colab\n",
    "import importlib.util\n",
    "if importlib.util.find_spec('essentia') is None:\n",
    "    !pip install essentia\n",
    "\n",
    "!pip install git+https://github.com/mir-dataset-loaders/mirdata.git\n",
    "!pip install pandas\n",
    "!pip install matplotlib"
   ]
  },
  {
   "cell_type": "code",
   "execution_count": 2,
   "metadata": {
    "executionInfo": {
     "elapsed": 1322,
     "status": "ok",
     "timestamp": 1623158173631,
     "user": {
      "displayName": "MARIUS MIRON",
      "photoUrl": "",
      "userId": "15610443579159325826"
     },
     "user_tz": -120
    },
    "id": "8RP7NclOZ3BO"
   },
   "outputs": [],
   "source": [
    "#Basic imports\n",
    "import os\n",
    "import matplotlib.pyplot as plt\n",
    "import numpy as np\n",
    "\n",
    "# Imports to support MIR\n",
    "import mirdata\n",
    "import essentia.standard as ess\n",
    "import pandas as pd\n",
    "\n",
    "\n"
   ]
  },
  {
   "cell_type": "markdown",
   "metadata": {
    "id": "YRgMVDRxiJIB"
   },
   "source": [
    "## Dataset description\n",
    "### Data downloading, validation"
   ]
  },
  {
   "cell_type": "code",
   "execution_count": 3,
   "metadata": {
    "colab": {
     "base_uri": "https://localhost:8080/"
    },
    "executionInfo": {
     "elapsed": 25175,
     "status": "ok",
     "timestamp": 1623158198789,
     "user": {
      "displayName": "MARIUS MIRON",
      "photoUrl": "",
      "userId": "15610443579159325826"
     },
     "user_tz": -120
    },
    "id": "i_y1fdZZZ3BZ",
    "outputId": "5b195889-5006-41f2-b730-346576dbbc37"
   },
   "outputs": [
    {
     "name": "stderr",
     "output_type": "stream",
     "text": [
      "INFO: Downloading ['remote_data'] to /Volumes/storessd/Users/mariusmiron/mir_datasets/mridangam_stroke\n"
     ]
    },
    {
     "name": "stderr",
     "output_type": "stream",
     "text": [
      "INFO: [remote_data] downloading mridangam_stroke_1.5.zip\n"
     ]
    },
    {
     "name": "stderr",
     "output_type": "stream",
     "text": [
      "INFO: /Volumes/storessd/Users/mariusmiron/mir_datasets/mridangam_stroke/mridangam_stroke_1.5.zip already exists and will not be downloaded. Rerun with force_overwrite=True to delete this file and force the download.\n"
     ]
    },
    {
     "name": "stderr",
     "output_type": "stream",
     "text": [
      "\r",
      "  0%|          | 0/6976 [00:00<?, ?it/s]"
     ]
    },
    {
     "name": "stderr",
     "output_type": "stream",
     "text": [
      "\r",
      "  7%|▋         | 472/6976 [00:00<00:01, 4713.03it/s]"
     ]
    },
    {
     "name": "stderr",
     "output_type": "stream",
     "text": [
      "\r",
      " 14%|█▍        | 971/6976 [00:00<00:01, 4871.19it/s]"
     ]
    },
    {
     "name": "stderr",
     "output_type": "stream",
     "text": [
      "\r",
      " 21%|██        | 1459/6976 [00:00<00:01, 4778.52it/s]"
     ]
    },
    {
     "name": "stderr",
     "output_type": "stream",
     "text": [
      "\r",
      " 28%|██▊       | 1938/6976 [00:00<00:01, 4770.67it/s]"
     ]
    },
    {
     "name": "stderr",
     "output_type": "stream",
     "text": [
      "\r",
      " 35%|███▍      | 2416/6976 [00:00<00:00, 4744.38it/s]"
     ]
    },
    {
     "name": "stderr",
     "output_type": "stream",
     "text": [
      "\r",
      " 41%|████▏     | 2891/6976 [00:00<00:00, 4132.01it/s]"
     ]
    },
    {
     "name": "stderr",
     "output_type": "stream",
     "text": [
      "\r",
      " 48%|████▊     | 3317/6976 [00:00<00:00, 3964.73it/s]"
     ]
    },
    {
     "name": "stderr",
     "output_type": "stream",
     "text": [
      "\r",
      " 53%|█████▎    | 3722/6976 [00:00<00:00, 3669.73it/s]"
     ]
    },
    {
     "name": "stderr",
     "output_type": "stream",
     "text": [
      "\r",
      " 59%|█████▊    | 4097/6976 [00:01<00:00, 3455.82it/s]"
     ]
    },
    {
     "name": "stderr",
     "output_type": "stream",
     "text": [
      "\r",
      " 64%|██████▍   | 4449/6976 [00:01<00:00, 3346.27it/s]"
     ]
    },
    {
     "name": "stderr",
     "output_type": "stream",
     "text": [
      "\r",
      " 69%|██████▊   | 4788/6976 [00:01<00:00, 2993.51it/s]"
     ]
    },
    {
     "name": "stderr",
     "output_type": "stream",
     "text": [
      "\r",
      " 73%|███████▎  | 5095/6976 [00:01<00:00, 2608.22it/s]"
     ]
    },
    {
     "name": "stderr",
     "output_type": "stream",
     "text": [
      "\r",
      " 77%|███████▋  | 5367/6976 [00:01<00:00, 2618.16it/s]"
     ]
    },
    {
     "name": "stderr",
     "output_type": "stream",
     "text": [
      "\r",
      " 81%|████████  | 5637/6976 [00:01<00:00, 2281.84it/s]"
     ]
    },
    {
     "name": "stderr",
     "output_type": "stream",
     "text": [
      "\r",
      " 84%|████████▍ | 5876/6976 [00:01<00:00, 1908.59it/s]"
     ]
    },
    {
     "name": "stderr",
     "output_type": "stream",
     "text": [
      "\r",
      " 87%|████████▋ | 6081/6976 [00:02<00:00, 1763.31it/s]"
     ]
    },
    {
     "name": "stderr",
     "output_type": "stream",
     "text": [
      "\r",
      " 91%|█████████▏| 6380/6976 [00:02<00:00, 2035.33it/s]"
     ]
    },
    {
     "name": "stderr",
     "output_type": "stream",
     "text": [
      "\r",
      " 95%|█████████▍| 6613/6976 [00:02<00:00, 2105.79it/s]"
     ]
    },
    {
     "name": "stderr",
     "output_type": "stream",
     "text": [
      "\r",
      " 98%|█████████▊| 6837/6976 [00:02<00:00, 2034.73it/s]"
     ]
    },
    {
     "name": "stderr",
     "output_type": "stream",
     "text": [
      "\r",
      "100%|██████████| 6976/6976 [00:02<00:00, 2894.08it/s]"
     ]
    },
    {
     "name": "stderr",
     "output_type": "stream",
     "text": [
      "\n",
      "INFO: Success: the dataset is complete and all files are valid.\n"
     ]
    },
    {
     "name": "stderr",
     "output_type": "stream",
     "text": [
      "INFO: --------------------\n"
     ]
    },
    {
     "data": {
      "text/plain": [
       "({'tracks': {}}, {'tracks': {}})"
      ]
     },
     "execution_count": 3,
     "metadata": {},
     "output_type": "execute_result"
    }
   ],
   "source": [
    "#Import Mridangam Stroke Dataset\n",
    "mridangam_stroke = mirdata.initialize('mridangam_stroke')\n",
    "\n",
    "#This cell downloads and validates the mridangam dataset\n",
    "mridangam_stroke.download()  # download the dataset\n",
    "mridangam_stroke.validate()  # validate that all the expected files are there"
   ]
  },
  {
   "cell_type": "markdown",
   "metadata": {
    "id": "oGoGWW3Liml0"
   },
   "source": [
    "In the mirdata library the track ids in the dataset can be seen retrieved using the *track_ids* attribute. The *load_tracks* methods loads all the tracks in a dictionary. "
   ]
  },
  {
   "cell_type": "code",
   "execution_count": 4,
   "metadata": {
    "colab": {
     "base_uri": "https://localhost:8080/"
    },
    "executionInfo": {
     "elapsed": 24,
     "status": "ok",
     "timestamp": 1623158198790,
     "user": {
      "displayName": "MARIUS MIRON",
      "photoUrl": "",
      "userId": "15610443579159325826"
     },
     "user_tz": -120
    },
    "id": "7qc4QShb2M71",
    "outputId": "cffb67fa-30a5-42a0-f33f-bfa5b5a29de2"
   },
   "outputs": [
    {
     "data": {
      "text/plain": [
       "Track(\n",
       "  audio_path=\"...mariusmiron/mir_datasets/mridangam_stroke/mridangam_stroke_1.5/B/224030__akshaylaya__bheem-b-001.wav\",\n",
       "  stroke_name=\"bheem\",\n",
       "  tonic=\"B\",\n",
       "  track_id=\"224030\",\n",
       "  audio: The track's audio\n",
       "\n",
       "        Returns,\n",
       ")"
      ]
     },
     "execution_count": 4,
     "metadata": {},
     "output_type": "execute_result"
    }
   ],
   "source": [
    "mridangam_ids = mridangam_stroke.track_ids  # Load Mridangam IDs\n",
    "mridangam_data = mridangam_stroke.load_tracks()  # Load Mridangam data\n",
    "\n",
    "mridangam_data[mridangam_ids[0]]  # Visualize a single track"
   ]
  },
  {
   "cell_type": "code",
   "execution_count": 5,
   "metadata": {
    "colab": {
     "base_uri": "https://localhost:8080/"
    },
    "executionInfo": {
     "elapsed": 20,
     "status": "ok",
     "timestamp": 1623158198791,
     "user": {
      "displayName": "MARIUS MIRON",
      "photoUrl": "",
      "userId": "15610443579159325826"
     },
     "user_tz": -120
    },
    "id": "qqYgBYSoF6Zw",
    "outputId": "a55787a7-41bf-479b-c433-1950df1449ff"
   },
   "outputs": [
    {
     "name": "stdout",
     "output_type": "stream",
     "text": [
      "['bheem' 'cha' 'dheem' 'dhin' 'num' 'ta' 'tha' 'tham' 'thi' 'thom']\n"
     ]
    }
   ],
   "source": [
    "# Get complete list of different strokes\n",
    "stroke_names = []\n",
    "for i in mridangam_ids:\n",
    "    stroke_names.append(mridangam_data[i].stroke_name)\n",
    "stroke_names = np.unique(stroke_names)\n",
    "\n",
    "print(stroke_names)"
   ]
  },
  {
   "cell_type": "code",
   "execution_count": 6,
   "metadata": {
    "colab": {
     "base_uri": "https://localhost:8080/"
    },
    "executionInfo": {
     "elapsed": 17,
     "status": "ok",
     "timestamp": 1623158198792,
     "user": {
      "displayName": "MARIUS MIRON",
      "photoUrl": "",
      "userId": "15610443579159325826"
     },
     "user_tz": -120
    },
    "id": "AfXV-LblZ3Bj",
    "outputId": "8594ca01-81ca-4eb1-909c-eb928edde5af"
   },
   "outputs": [
    {
     "data": {
      "text/plain": [
       "['/Volumes/storessd/Users/mariusmiron/mir_datasets/mridangam_stroke/mridangam_stroke_1.5/B/224030__akshaylaya__bheem-b-001.wav',\n",
       " '/Volumes/storessd/Users/mariusmiron/mir_datasets/mridangam_stroke/mridangam_stroke_1.5/B/224031__akshaylaya__bheem-b-002.wav',\n",
       " '/Volumes/storessd/Users/mariusmiron/mir_datasets/mridangam_stroke/mridangam_stroke_1.5/B/224032__akshaylaya__bheem-b-003.wav',\n",
       " '/Volumes/storessd/Users/mariusmiron/mir_datasets/mridangam_stroke/mridangam_stroke_1.5/B/224033__akshaylaya__bheem-b-004.wav',\n",
       " '/Volumes/storessd/Users/mariusmiron/mir_datasets/mridangam_stroke/mridangam_stroke_1.5/B/224034__akshaylaya__bheem-b-005.wav',\n",
       " '/Volumes/storessd/Users/mariusmiron/mir_datasets/mridangam_stroke/mridangam_stroke_1.5/C/225356__akshaylaya__bheem-c-001.wav',\n",
       " '/Volumes/storessd/Users/mariusmiron/mir_datasets/mridangam_stroke/mridangam_stroke_1.5/C/225357__akshaylaya__bheem-c-002.wav',\n",
       " '/Volumes/storessd/Users/mariusmiron/mir_datasets/mridangam_stroke/mridangam_stroke_1.5/C/225358__akshaylaya__bheem-c-003.wav',\n",
       " '/Volumes/storessd/Users/mariusmiron/mir_datasets/mridangam_stroke/mridangam_stroke_1.5/C#/226488__akshaylaya__bheem-csh-001.wav',\n",
       " '/Volumes/storessd/Users/mariusmiron/mir_datasets/mridangam_stroke/mridangam_stroke_1.5/D#/228625__akshaylaya__bheem-dsh-001.wav',\n",
       " '/Volumes/storessd/Users/mariusmiron/mir_datasets/mridangam_stroke/mridangam_stroke_1.5/D#/228626__akshaylaya__bheem-dsh-002.wav',\n",
       " '/Volumes/storessd/Users/mariusmiron/mir_datasets/mridangam_stroke/mridangam_stroke_1.5/D#/228627__akshaylaya__bheem-dsh-003.wav',\n",
       " '/Volumes/storessd/Users/mariusmiron/mir_datasets/mridangam_stroke/mridangam_stroke_1.5/D#/228628__akshaylaya__bheem-dsh-004.wav',\n",
       " '/Volumes/storessd/Users/mariusmiron/mir_datasets/mridangam_stroke/mridangam_stroke_1.5/D#/228629__akshaylaya__bheem-dsh-005.wav',\n",
       " '/Volumes/storessd/Users/mariusmiron/mir_datasets/mridangam_stroke/mridangam_stroke_1.5/D#/228630__akshaylaya__bheem-dsh-006.wav',\n",
       " '/Volumes/storessd/Users/mariusmiron/mir_datasets/mridangam_stroke/mridangam_stroke_1.5/D#/228631__akshaylaya__bheem-dsh-007.wav',\n",
       " '/Volumes/storessd/Users/mariusmiron/mir_datasets/mridangam_stroke/mridangam_stroke_1.5/D#/228632__akshaylaya__bheem-dsh-008.wav',\n",
       " '/Volumes/storessd/Users/mariusmiron/mir_datasets/mridangam_stroke/mridangam_stroke_1.5/D#/228633__akshaylaya__bheem-dsh-009.wav',\n",
       " '/Volumes/storessd/Users/mariusmiron/mir_datasets/mridangam_stroke/mridangam_stroke_1.5/D#/228634__akshaylaya__bheem-dsh-010.wav',\n",
       " '/Volumes/storessd/Users/mariusmiron/mir_datasets/mridangam_stroke/mridangam_stroke_1.5/D#/228635__akshaylaya__bheem-dsh-011.wav',\n",
       " '/Volumes/storessd/Users/mariusmiron/mir_datasets/mridangam_stroke/mridangam_stroke_1.5/D#/228636__akshaylaya__bheem-dsh-012.wav',\n",
       " '/Volumes/storessd/Users/mariusmiron/mir_datasets/mridangam_stroke/mridangam_stroke_1.5/D#/228637__akshaylaya__bheem-dsh-013.wav',\n",
       " '/Volumes/storessd/Users/mariusmiron/mir_datasets/mridangam_stroke/mridangam_stroke_1.5/D#/228638__akshaylaya__bheem-dsh-014.wav',\n",
       " '/Volumes/storessd/Users/mariusmiron/mir_datasets/mridangam_stroke/mridangam_stroke_1.5/D#/228639__akshaylaya__bheem-dsh-015.wav',\n",
       " '/Volumes/storessd/Users/mariusmiron/mir_datasets/mridangam_stroke/mridangam_stroke_1.5/E/230136__akshaylaya__bheem-e-001.wav',\n",
       " '/Volumes/storessd/Users/mariusmiron/mir_datasets/mridangam_stroke/mridangam_stroke_1.5/E/230137__akshaylaya__bheem-e-002.wav',\n",
       " '/Volumes/storessd/Users/mariusmiron/mir_datasets/mridangam_stroke/mridangam_stroke_1.5/E/230138__akshaylaya__bheem-e-003.wav',\n",
       " '/Volumes/storessd/Users/mariusmiron/mir_datasets/mridangam_stroke/mridangam_stroke_1.5/E/230139__akshaylaya__bheem-e-004.wav',\n",
       " '/Volumes/storessd/Users/mariusmiron/mir_datasets/mridangam_stroke/mridangam_stroke_1.5/E/230140__akshaylaya__bheem-e-005.wav',\n",
       " '/Volumes/storessd/Users/mariusmiron/mir_datasets/mridangam_stroke/mridangam_stroke_1.5/E/230141__akshaylaya__bheem-e-006.wav',\n",
       " '/Volumes/storessd/Users/mariusmiron/mir_datasets/mridangam_stroke/mridangam_stroke_1.5/E/230142__akshaylaya__bheem-e-007.wav',\n",
       " '/Volumes/storessd/Users/mariusmiron/mir_datasets/mridangam_stroke/mridangam_stroke_1.5/E/230143__akshaylaya__bheem-e-008.wav',\n",
       " '/Volumes/storessd/Users/mariusmiron/mir_datasets/mridangam_stroke/mridangam_stroke_1.5/E/230144__akshaylaya__bheem-e-009.wav',\n",
       " '/Volumes/storessd/Users/mariusmiron/mir_datasets/mridangam_stroke/mridangam_stroke_1.5/E/230145__akshaylaya__bheem-e-010.wav',\n",
       " '/Volumes/storessd/Users/mariusmiron/mir_datasets/mridangam_stroke/mridangam_stroke_1.5/E/230146__akshaylaya__bheem-e-011.wav',\n",
       " '/Volumes/storessd/Users/mariusmiron/mir_datasets/mridangam_stroke/mridangam_stroke_1.5/E/230147__akshaylaya__bheem-e-012.wav',\n",
       " '/Volumes/storessd/Users/mariusmiron/mir_datasets/mridangam_stroke/mridangam_stroke_1.5/E/230148__akshaylaya__bheem-e-013.wav',\n",
       " '/Volumes/storessd/Users/mariusmiron/mir_datasets/mridangam_stroke/mridangam_stroke_1.5/E/230149__akshaylaya__bheem-e-014.wav',\n",
       " '/Volumes/storessd/Users/mariusmiron/mir_datasets/mridangam_stroke/mridangam_stroke_1.5/E/230150__akshaylaya__bheem-e-015.wav',\n",
       " '/Volumes/storessd/Users/mariusmiron/mir_datasets/mridangam_stroke/mridangam_stroke_1.5/E/230151__akshaylaya__bheem-e-016.wav',\n",
       " '/Volumes/storessd/Users/mariusmiron/mir_datasets/mridangam_stroke/mridangam_stroke_1.5/E/230152__akshaylaya__bheem-e-017.wav',\n",
       " '/Volumes/storessd/Users/mariusmiron/mir_datasets/mridangam_stroke/mridangam_stroke_1.5/E/230153__akshaylaya__bheem-e-018.wav',\n",
       " '/Volumes/storessd/Users/mariusmiron/mir_datasets/mridangam_stroke/mridangam_stroke_1.5/E/230154__akshaylaya__bheem-e-019.wav',\n",
       " '/Volumes/storessd/Users/mariusmiron/mir_datasets/mridangam_stroke/mridangam_stroke_1.5/E/230155__akshaylaya__bheem-e-020.wav',\n",
       " '/Volumes/storessd/Users/mariusmiron/mir_datasets/mridangam_stroke/mridangam_stroke_1.5/E/230156__akshaylaya__bheem-e-021.wav',\n",
       " '/Volumes/storessd/Users/mariusmiron/mir_datasets/mridangam_stroke/mridangam_stroke_1.5/E/230157__akshaylaya__bheem-e-022.wav',\n",
       " '/Volumes/storessd/Users/mariusmiron/mir_datasets/mridangam_stroke/mridangam_stroke_1.5/E/230158__akshaylaya__bheem-e-023.wav',\n",
       " '/Volumes/storessd/Users/mariusmiron/mir_datasets/mridangam_stroke/mridangam_stroke_1.5/E/230159__akshaylaya__bheem-e-024.wav',\n",
       " '/Volumes/storessd/Users/mariusmiron/mir_datasets/mridangam_stroke/mridangam_stroke_1.5/E/230160__akshaylaya__bheem-e-025.wav']"
      ]
     },
     "execution_count": 6,
     "metadata": {},
     "output_type": "execute_result"
    }
   ],
   "source": [
    "# You can create a dictionary using stroke type as keys\n",
    "stroke_dict = {item: [] for item in stroke_names}\n",
    "for i in mridangam_ids:\n",
    "    stroke_dict[mridangam_data[i].stroke_name].append(mridangam_data[i].audio_path)\n",
    "\n",
    "stroke_dict['bheem']"
   ]
  },
  {
   "cell_type": "code",
   "execution_count": 7,
   "metadata": {
    "colab": {
     "base_uri": "https://localhost:8080/",
     "height": 106
    },
    "executionInfo": {
     "elapsed": 5049,
     "status": "ok",
     "timestamp": 1623158203828,
     "user": {
      "displayName": "MARIUS MIRON",
      "photoUrl": "",
      "userId": "15610443579159325826"
     },
     "user_tz": -120
    },
    "id": "Vr2f3y2dZ3By",
    "outputId": "9618909e-d1f6-4ede-df11-84f88b1bb37a"
   },
   "outputs": [
    {
     "name": "stdout",
     "output_type": "stream",
     "text": [
      "Plot waveforms of random samples of each stroke type...\n"
     ]
    },
    {
     "data": {
      "image/png": "[encoded data removed]",
      "text/plain": [
       "<Figure size 3600x216 with 10 Axes>"
      ]
     },
     "metadata": {
      "filenames": {
       "image/png": "/Volumes/Macintosh HD 2/Documents/git/mir-startpack/source/_build/jupyter_execute/inst_clas/Mridangam_dataset_10_1.png"
      },
      "needs_background": "light"
     },
     "output_type": "display_data"
    }
   ],
   "source": [
    "# Raw-data preprocess analysis parameters\n",
    "_, fs = mridangam_data[mridangam_ids[0]].audio\n",
    "\n",
    "num_strokes = len(stroke_dict.keys())\n",
    "print(\"Plot waveforms of random samples of each stroke type...\")\n",
    "plt.figure(1, figsize=(5 * num_strokes, 3))\n",
    "file_ind_inlist = 0 # 0: let's take the first file in the list for sample plots\n",
    "for i, stroke in enumerate(stroke_dict.keys()):\n",
    "    sample_file = stroke_dict[stroke][file_ind_inlist]\n",
    "    x = ess.MonoLoader(filename = sample_file, sampleRate = fs)()\n",
    "    \n",
    "    plt.subplot(1,num_strokes,(i+1))\n",
    "    plt.plot(x)\n",
    "    plt.title(stroke)"
   ]
  }
 ],
 "metadata": {
  "colab": {
   "collapsed_sections": [],
   "name": "Mridangam_dataset.ipynb",
   "provenance": [],
   "toc_visible": true
  },
  "kernelspec": {
   "display_name": "Python 3",
   "language": "python",
   "name": "python3"
  },
  "language_info": {
   "codemirror_mode": {
    "name": "ipython",
    "version": 3
   },
   "file_extension": ".py",
   "mimetype": "text/x-python",
   "name": "python",
   "nbconvert_exporter": "python",
   "pygments_lexer": "ipython3",
   "version": "3.7.10"
  }
 },
 "nbformat": 4,
 "nbformat_minor": 0
}